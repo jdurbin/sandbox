{
 "cells": [
  {
   "cell_type": "code",
   "execution_count": 2,
   "id": "e82af39b",
   "metadata": {},
   "outputs": [],
   "source": [
    "using  Languages,TextAnalysis, Flux, PyPlot, Statistics"
   ]
  },
  {
   "cell_type": "code",
   "execution_count": 3,
   "id": "32f702bc",
   "metadata": {},
   "outputs": [
    {
     "data": {
      "text/plain": [
       "1×10 Matrix{Bool}:\n",
       " 1  1  1  1  1  0  0  0  0  0"
      ]
     },
     "metadata": {},
     "output_type": "display_data"
    }
   ],
   "source": [
    "Arr = [\"well done\",\n",
    "     \"good work\",\n",
    "     \"great effort\",\n",
    "     \"nice work\",\n",
    "     \"excellent\",\n",
    "     \"weak\",\n",
    "     \"poor effort\",\n",
    "     \"not good\",\n",
    "     \"poor work\",\n",
    "     \"could have done better\"]\n",
    "\n",
    "# positve or negative sentiment to each 'document' string\n",
    "y = [true true true true true false false false false false]"
   ]
  },
  {
   "cell_type": "code",
   "execution_count": 4,
   "id": "ef79fece",
   "metadata": {},
   "outputs": [
    {
     "data": {
      "text/plain": [
       "Dict{String, Int64} with 14 entries:\n",
       "  \"done\"      => 3\n",
       "  \"not\"       => 10\n",
       "  \"excellent\" => 5\n",
       "  \"have\"      => 8\n",
       "  \"well\"      => 13\n",
       "  \"work\"      => 14\n",
       "  \"nice\"      => 9\n",
       "  \"effort\"    => 4\n",
       "  \"great\"     => 7\n",
       "  \"poor\"      => 11\n",
       "  \"could\"     => 2\n",
       "  \"better\"    => 1\n",
       "  \"good\"      => 6\n",
       "  \"weak\"      => 12"
      ]
     },
     "metadata": {},
     "output_type": "display_data"
    }
   ],
   "source": [
    "docs=[]\n",
    "for i in 1:length(Arr)\n",
    "    push!(docs, StringDocument(Arr[i]))\n",
    "end\n",
    "crps=Corpus(docs)    \n",
    "update_lexicon!(crps)\n",
    "doc_term_matrix=DocumentTermMatrix(crps)\n",
    "word_dict=doc_term_matrix.column_indices"
   ]
  },
  {
   "cell_type": "code",
   "execution_count": 5,
   "id": "814ce9ff",
   "metadata": {},
   "outputs": [
    {
     "data": {
      "text/plain": [
       "tk_idx (generic function with 1 method)"
      ]
     },
     "metadata": {},
     "output_type": "display_data"
    }
   ],
   "source": [
    "tk_idx(s) = haskey(word_dict, s) ? i=word_dict[s] : i=0"
   ]
  },
  {
   "cell_type": "code",
   "execution_count": 6,
   "id": "e159ecfa",
   "metadata": {},
   "outputs": [
    {
     "data": {
      "text/plain": [
       "pad_corpus (generic function with 1 method)"
      ]
     },
     "metadata": {},
     "output_type": "display_data"
    }
   ],
   "source": [
    "function pad_corpus(c, pad_size)\n",
    "    M=[]\n",
    "    for doc in 1:length(c)\n",
    "        tks = tokens(c[doc])\n",
    "        if length(tks)>=pad_size\n",
    "            tk_indexes=[tk_idx(w) for w in tks[1:pad_size]]\n",
    "        end\n",
    "        if length(tks)<pad_size\n",
    "            tk_indexes=zeros(Int64,pad_size-length(tks))\n",
    "            tk_indexes=vcat(tk_indexes, [tk_idx(w) for w in tks])\n",
    "        end\n",
    "        doc==1 ? M=tk_indexes' : M=vcat(M, tk_indexes')\n",
    "    end\n",
    "    return M\n",
    "end"
   ]
  },
  {
   "cell_type": "code",
   "execution_count": null,
   "id": "38e4d416",
   "metadata": {},
   "outputs": [],
   "source": []
  }
 ],
 "metadata": {
  "kernelspec": {
   "display_name": "Julia 1.8.2",
   "language": "julia",
   "name": "julia-1.8"
  },
  "language_info": {
   "file_extension": ".jl",
   "mimetype": "application/julia",
   "name": "julia",
   "version": "1.8.2"
  }
 },
 "nbformat": 4,
 "nbformat_minor": 5
}
