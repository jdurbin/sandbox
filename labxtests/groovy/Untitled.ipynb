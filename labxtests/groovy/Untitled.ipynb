{
 "cells": [
  {
   "cell_type": "code",
   "execution_count": null,
   "id": "793cb518",
   "metadata": {},
   "outputs": [],
   "source": [
    "%%classpath add mvn\n",
    "tech.tablesaw tablesaw-beakerx 0.42.0\n",
    "tech.tablesaw tablesaw-jsplot 0.42.0\n",
    "com.jimmoores quandl-tablesaw 2.2.1\n",
    "com.github.haifengl smile-core 2.6.0"
   ]
  },
  {
   "cell_type": "code",
   "execution_count": null,
   "id": "9682265c",
   "metadata": {},
   "outputs": [],
   "source": [
    "import tech.tablesaw.api.*\n",
    "import tech.tablesaw.columns.*\n",
    "import tech.tablesaw.plotly.*;\n",
    "import tech.tablesaw.plotly.api.*;\n",
    "import tech.tablesaw.plotly.components.Figure;\n",
    "\n",
    "random = new Random()\n",
    "\n",
    "\n",
    "Table rnd = Table.create(\"Valuyes\")\n",
    "(0..4).each{\n",
    "\tx = (0..10).collect{random.nextInt(10)}\n",
    "\trnd.addColumns(DoubleColumn.create(\"$it\",x))\n",
    "}\n",
    "\n",
    "Plot.show(ScatterPlot.create(\"Random Values\",rnd,\"1\",\"2\"))"
   ]
  },
  {
   "cell_type": "code",
   "execution_count": null,
   "id": "2c111f23",
   "metadata": {},
   "outputs": [],
   "source": []
  },
  {
   "cell_type": "code",
   "execution_count": null,
   "id": "3045165f",
   "metadata": {},
   "outputs": [],
   "source": []
  }
 ],
 "metadata": {
  "kernelspec": {
   "display_name": "Groovy",
   "language": "groovy",
   "name": "groovy"
  },
  "language_info": {
   "codemirror_mode": "groovy",
   "file_extension": ".groovy",
   "mimetype": "",
   "name": "Groovy",
   "nbconverter_exporter": "",
   "version": "2.5.6"
  }
 },
 "nbformat": 4,
 "nbformat_minor": 5
}
