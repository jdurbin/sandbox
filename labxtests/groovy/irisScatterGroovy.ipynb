{
 "cells": [
  {
   "cell_type": "code",
   "execution_count": 1,
   "id": "c50e0392",
   "metadata": {},
   "outputs": [
    {
     "data": {
      "application/vnd.jupyter.widget-view+json": {
       "model_id": "",
       "version_major": 2,
       "version_minor": 0
      },
      "method": "display_data"
     },
     "metadata": {},
     "output_type": "display_data"
    },
    {
     "data": {
      "application/vnd.jupyter.widget-view+json": {
       "model_id": "5284bad8-2240-4006-a7b4-5392b5c9ebba",
       "version_major": 2,
       "version_minor": 0
      },
      "method": "display_data"
     },
     "metadata": {},
     "output_type": "display_data"
    }
   ],
   "source": [
    "%%classpath add mvn\n",
    "tech.tablesaw tablesaw-beakerx 0.42.0\n",
    "tech.tablesaw tablesaw-jsplot 0.42.0\n",
    "com.jimmoores quandl-tablesaw 2.2.1\n",
    "com.github.haifengl smile-core 2.6.0"
   ]
  },
  {
   "cell_type": "code",
   "execution_count": 2,
   "id": "172c0d63",
   "metadata": {},
   "outputs": [
    {
     "name": "stderr",
     "output_type": "stream",
     "text": [
      "Could not import tech.tablesaw.plotly.*;\n",
      "Could not import tech.tablesaw.plotly.api.BubblePlot;\n",
      "Could not import tech.tablesaw.plotly.components.Figure;\n"
     ]
    }
   ],
   "source": [
    "%import static tech.tablesaw.aggregate.AggregateFunctions.*\n",
    "%import tech.tablesaw.api.*\n",
    "%import tech.tablesaw.columns.*\n",
    "%import smile.clustering.*\n",
    "%import smile.data.formula.Formula\n",
    "%import smile.regression.*\n",
    "    \n",
    "%import tech.tablesaw.plotly.*;\n",
    "%import tech.tablesaw.plotly.api.BubblePlot;\n",
    "%import tech.tablesaw.plotly.api.ScatterPlot\n",
    "%import tech.tablesaw.plotly.components.Figure;"
   ]
  },
  {
   "cell_type": "code",
   "execution_count": 3,
   "id": "dfa4af2f",
   "metadata": {},
   "outputs": [
    {
     "data": {
      "text/plain": [
       "                                            Iris.csv                                            \n",
       " Id   |  SepalLengthCm  |  SepalWidthCm  |  PetalLengthCm  |  PetalWidthCm  |     Species      |\n",
       "------------------------------------------------------------------------------------------------\n",
       "   1  |            5.1  |           3.5  |            1.4  |           0.2  |     Iris-setosa  |\n",
       "   2  |            4.9  |             3  |            1.4  |           0.2  |     Iris-setosa  |\n",
       "   3  |            4.7  |           3.2  |            1.3  |           0.2  |     Iris-setosa  |\n",
       "   4  |            4.6  |           3.1  |            1.5  |           0.2  |     Iris-setosa  |\n",
       "   5  |              5  |           3.6  |            1.4  |           0.2  |     Iris-setosa  |\n",
       "   6  |            5.4  |           3.9  |            1.7  |           0.4  |     Iris-setosa  |\n",
       "   7  |            4.6  |           3.4  |            1.4  |           0.3  |     Iris-setosa  |\n",
       "   8  |              5  |           3.4  |            1.5  |           0.2  |     Iris-setosa  |\n",
       "   9  |            4.4  |           2.9  |            1.4  |           0.2  |     Iris-setosa  |\n",
       "  10  |            4.9  |           3.1  |            1.5  |           0.1  |     Iris-setosa  |\n",
       " ...  |            ...  |           ...  |            ...  |           ...  |             ...  |\n",
       " 141  |            6.7  |           3.1  |            5.6  |           2.4  |  Iris-virginica  |\n",
       " 142  |            6.9  |           3.1  |            5.1  |           2.3  |  Iris-virginica  |\n",
       " 143  |            5.8  |           2.7  |            5.1  |           1.9  |  Iris-virginica  |\n",
       " 144  |            6.8  |           3.2  |            5.9  |           2.3  |  Iris-virginica  |\n",
       " 145  |            6.7  |           3.3  |            5.7  |           2.5  |  Iris-virginica  |\n",
       " 146  |            6.7  |             3  |            5.2  |           2.3  |  Iris-virginica  |\n",
       " 147  |            6.3  |           2.5  |              5  |           1.9  |  Iris-virginica  |\n",
       " 148  |            6.5  |             3  |            5.2  |             2  |  Iris-virginica  |\n",
       " 149  |            6.2  |           3.4  |            5.4  |           2.3  |  Iris-virginica  |\n",
       " 150  |            5.9  |             3  |            5.1  |           1.8  |  Iris-virginica  |"
      ]
     },
     "execution_count": 3,
     "metadata": {},
     "output_type": "execute_result"
    }
   ],
   "source": [
    "iris = Table.read().csv(\"data/Iris.csv\")"
   ]
  },
  {
   "cell_type": "code",
   "execution_count": 4,
   "id": "63671633",
   "metadata": {},
   "outputs": [
    {
     "data": {
      "application/vnd.jupyter.widget-view+json": {
       "model_id": "f39ed4a1-88ea-48fc-92e6-2a6c93a4736e",
       "version_major": 2,
       "version_minor": 0
      },
      "method": "display_data"
     },
     "metadata": {},
     "output_type": "display_data"
    }
   ],
   "source": [
    "// moneyball.numberColumn(\"RD\").asDoubleArray()\n",
    "\n",
    "slen = iris.nCol(\"SepalLengthCm\").asDoubleArray()\n",
    "swidth = iris.nCol(\"SepalWidthCm\").asDoubleArray()\n",
    "\n",
    "def Plot = new Plot(title: \"Iris Width x Length\", xLabel:\"Width\", yLabel: \"Length\")\n",
    "Plot << new Points(x: slen, y: swidth)"
   ]
  },
  {
   "cell_type": "code",
   "execution_count": 5,
   "id": "e682ac0f",
   "metadata": {},
   "outputs": [
    {
     "data": {
      "text/plain": [
       "tech.tablesaw.plotly.components.Figure@38ad37d4"
      ]
     },
     "execution_count": 5,
     "metadata": {},
     "output_type": "execute_result"
    }
   ],
   "source": [
    "figure = ScatterPlot.create(\"Iris\", \n",
    "                       iris, \"SepalLengthCm\", \"SepalWidthCm\", \"Species\")"
   ]
  },
  {
   "cell_type": "code",
   "execution_count": 6,
   "id": "e3504975",
   "metadata": {},
   "outputs": [
    {
     "ename": "groovy.lang.MissingMethodException",
     "evalue": " No signature of method",
     "output_type": "error",
     "text": "groovy.lang.MissingMethodException: No signature of method: static com.twosigma.beakerx.chart.xychart.Plot.show() is applicable for argument types: (tech.tablesaw.plotly.components.Figure) values: [tech.tablesaw.plotly.components.Figure@38ad37d4]\nPossible solutions: wait(), close(), dump(), grep(), find(), any()\n\tat this cell line 1\n\tat com.twosigma.beakerx.groovy.evaluator.GroovyCodeRunner.runScript(GroovyCodeRunner.java:94)\n\tat com.twosigma.beakerx.groovy.evaluator.GroovyCodeRunner.call(GroovyCodeRunner.java:59)\n\tat com.twosigma.beakerx.groovy.evaluator.GroovyCodeRunner.call(GroovyCodeRunner.java:32)\n",
     "traceback": [
      "\u001b[0;31mgroovy.lang.MissingMethodException: No signature of method: static com.twosigma.beakerx.chart.xychart.Plot.show() is applicable for argument types: (tech.tablesaw.plotly.components.Figure) values: [tech.tablesaw.plotly.components.Figure@38ad37d4]\u001b[0;0m",
      "\u001b[0;31mPossible solutions: wait(), close(), dump(), grep(), find(), any()\u001b[0;0m",
      "\u001b[0;31m\tat this cell line 1\u001b[0;0m",
      "\u001b[0;31m\tat com.twosigma.beakerx.groovy.evaluator.GroovyCodeRunner.runScript(GroovyCodeRunner.java:94)\u001b[0;0m",
      "\u001b[0;31m\tat com.twosigma.beakerx.groovy.evaluator.GroovyCodeRunner.call(GroovyCodeRunner.java:59)\u001b[0;0m",
      "\u001b[0;31m\tat com.twosigma.beakerx.groovy.evaluator.GroovyCodeRunner.call(GroovyCodeRunner.java:32)\u001b[0;0m"
     ]
    }
   ],
   "source": [
    "\n",
    "Plot.show(figure)"
   ]
  },
  {
   "cell_type": "code",
   "execution_count": null,
   "id": "d18ad462",
   "metadata": {},
   "outputs": [],
   "source": []
  }
 ],
 "metadata": {
  "kernelspec": {
   "display_name": "Groovy",
   "language": "groovy",
   "name": "groovy"
  },
  "language_info": {
   "codemirror_mode": "groovy",
   "file_extension": ".groovy",
   "mimetype": "",
   "name": "Groovy",
   "nbconverter_exporter": "",
   "version": "2.5.6"
  },
  "toc": {
   "base_numbering": 1,
   "nav_menu": {},
   "number_sections": false,
   "sideBar": false,
   "skip_h1_title": false,
   "title_cell": "Table of Contents",
   "title_sidebar": "Contents",
   "toc_cell": false,
   "toc_position": {},
   "toc_section_display": false,
   "toc_window_display": false
  }
 },
 "nbformat": 4,
 "nbformat_minor": 5
}
