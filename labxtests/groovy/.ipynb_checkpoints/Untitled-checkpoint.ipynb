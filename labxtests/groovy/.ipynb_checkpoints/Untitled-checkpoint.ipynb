{
 "cells": [
  {
   "cell_type": "code",
   "execution_count": 6,
   "id": "9a907be2",
   "metadata": {},
   "outputs": [
    {
     "data": {
      "application/vnd.jupyter.widget-view+json": {
       "model_id": "",
       "version_major": 2,
       "version_minor": 0
      },
      "method": "display_data"
     },
     "metadata": {},
     "output_type": "display_data"
    }
   ],
   "source": [
    "%%classpath add mvn\n",
    "tech.tablesaw tablesaw-beakerx 0.42.0\n",
    "tech.tablesaw tablesaw-jsplot 0.42.0\n",
    "com.jimmoores quandl-tablesaw 2.2.1\n",
    "com.github.haifengl smile-core 2.6.0"
   ]
  },
  {
   "cell_type": "code",
   "execution_count": 8,
   "id": "5f4175d7",
   "metadata": {},
   "outputs": [
    {
     "data": {
      "text/plain": [
       "null"
      ]
     },
     "execution_count": 8,
     "metadata": {},
     "output_type": "execute_result"
    }
   ],
   "source": [
    "import tech.tablesaw.api.*\n",
    "import tech.tablesaw.columns.*\n",
    "import tech.tablesaw.plotly.*;\n",
    "import tech.tablesaw.plotly.api.*;\n",
    "import tech.tablesaw.plotly.components.Figure;\n",
    "//@Grab(group='tech.tablesaw',module='tablesaw-core',version='0.38.1')\n",
    "//@Grab(group='tech.tablesaw',module='tablesaw-jsplot',version='0.38.1')\n"
   ]
  },
  {
   "cell_type": "code",
   "execution_count": 10,
   "id": "6f159fb2",
   "metadata": {},
   "outputs": [
    {
     "ename": "unable to resolve class Table  @ line 4, column 7.",
     "evalue": "unable to resolve class Table  @ line 4, column 7.",
     "output_type": "error",
     "text": "unable to resolve class Table  @ line 4, column 7.\n   Table rnd = Table.create(\"Valuyes\")\n         ^\n\n1 error\n\n\tat com.twosigma.beakerx.groovy.evaluator.GroovyCodeRunner.call(GroovyCodeRunner.java:55)\n\tat com.twosigma.beakerx.groovy.evaluator.GroovyCodeRunner.call(GroovyCodeRunner.java:32)",
     "traceback": [
      "\u001b[1;31munable to resolve class Table  @ line 4, column 7.\u001b[0;0m",
      "\u001b[1;31m   Table rnd = Table.create(\"Valuyes\")\u001b[0;0m",
      "\u001b[1;31m         ^\u001b[0;0m",
      "\u001b[1;31m\u001b[0;0m",
      "\u001b[1;31m1 error\u001b[0;0m",
      "\u001b[1;31m\u001b[0;0m",
      "\u001b[0;31m\tat com.twosigma.beakerx.groovy.evaluator.GroovyCodeRunner.call(GroovyCodeRunner.java:55)\u001b[0;0m",
      "\u001b[0;31m\tat com.twosigma.beakerx.groovy.evaluator.GroovyCodeRunner.call(GroovyCodeRunner.java:32)\u001b[0;0m"
     ]
    }
   ],
   "source": [
    "import tech.tablesaw.api.*\n",
    "import tech.tablesaw.columns.*\n",
    "import tech.tablesaw.plotly.*;\n",
    "import tech.tablesaw.plotly.api.*;\n",
    "import tech.tablesaw.plotly.components.Figure;\n",
    "\n",
    "random = new Random()\n",
    "\n",
    "\n",
    "Table rnd = Table.create(\"Valuyes\")\n",
    "(0..4).each{\n",
    "\tx = (0..10).collect{random.nextInt(10)}\n",
    "\trnd.addColumns(DoubleColumn.create(\"$it\",x))\n",
    "}"
   ]
  },
  {
   "cell_type": "code",
   "execution_count": null,
   "id": "c6b8ecd9",
   "metadata": {},
   "outputs": [],
   "source": []
  }
 ],
 "metadata": {
  "kernelspec": {
   "display_name": "Groovy",
   "language": "groovy",
   "name": "groovy"
  },
  "language_info": {
   "codemirror_mode": "groovy",
   "file_extension": ".groovy",
   "mimetype": "",
   "name": "Groovy",
   "nbconverter_exporter": "",
   "version": "2.5.6"
  }
 },
 "nbformat": 4,
 "nbformat_minor": 5
}
