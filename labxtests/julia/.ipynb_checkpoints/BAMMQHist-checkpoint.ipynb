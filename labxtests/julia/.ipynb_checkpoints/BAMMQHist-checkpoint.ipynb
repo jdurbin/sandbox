{
 "cells": [
  {
   "cell_type": "code",
   "execution_count": 1,
   "id": "a6067771",
   "metadata": {
    "collapsed": true,
    "jupyter": {
     "outputs_hidden": true
    }
   },
   "outputs": [
    {
     "data": {
      "application/vnd.webio.node+json": {
       "children": [],
       "instanceArgs": {
        "namespace": "html",
        "tag": "div"
       },
       "nodeType": "DOM",
       "props": {},
       "type": "node"
      },
      "text/html": [
       "<div style=\"padding: 1em; background-color: #f8d6da; border: 1px solid #f5c6cb; font-weight: bold;\">\n",
       "<p>The WebIO Jupyter extension was not detected. See the\n",
       "<a href=\"https://juliagizmos.github.io/WebIO.jl/latest/providers/ijulia/\" target=\"_blank\">\n",
       "    WebIO Jupyter integration documentation\n",
       "</a>\n",
       "for more information.\n",
       "</div>\n"
      ],
      "text/plain": [
       "WebIO._IJuliaInit()"
      ]
     },
     "metadata": {},
     "output_type": "display_data"
    }
   ],
   "source": [
    "using XAM,PlotlyJS"
   ]
  },
  {
   "cell_type": "code",
   "execution_count": 2,
   "id": "7ee93629",
   "metadata": {},
   "outputs": [
    {
     "data": {
      "text/plain": [
       "\"/Users/james/src/sandbox/benchmarks/samtools/bench3/data/PC-HLA-EG4.bam\""
      ]
     },
     "execution_count": 2,
     "metadata": {},
     "output_type": "execute_result"
    }
   ],
   "source": [
    "bamName=\"/Users/james/src/sandbox/benchmarks/samtools/bench3/data/PC-HLA-EG4.bam\""
   ]
  },
  {
   "cell_type": "code",
   "execution_count": 3,
   "id": "5f25e04c",
   "metadata": {},
   "outputs": [
    {
     "ename": "LoadError",
     "evalue": "UndefVarError: bamInName not defined",
     "output_type": "error",
     "traceback": [
      "UndefVarError: bamInName not defined",
      "",
      "Stacktrace:",
      " [1] top-level scope",
      "   @ In[3]:2",
      " [2] eval",
      "   @ ./boot.jl:360 [inlined]",
      " [3] include_string(mapexpr::typeof(REPL.softscope), mod::Module, code::String, filename::String)",
      "   @ Base ./loading.jl:1094"
     ]
    }
   ],
   "source": [
    "allquals=Int[]\n",
    "bamIn = open(BAM.Reader,bamInName)\n",
    "for a in bamIn\n",
    "    push!(allquals,BAM.mappingquality(a))\n",
    "end"
   ]
  },
  {
   "cell_type": "code",
   "execution_count": null,
   "id": "4a6083e9",
   "metadata": {},
   "outputs": [],
   "source": []
  }
 ],
 "metadata": {
  "kernelspec": {
   "display_name": "Julia 1.6.1",
   "language": "julia",
   "name": "julia-1.6"
  },
  "language_info": {
   "file_extension": ".jl",
   "mimetype": "application/julia",
   "name": "julia",
   "version": "1.6.1"
  }
 },
 "nbformat": 4,
 "nbformat_minor": 5
}
