{
 "cells": [
  {
   "cell_type": "code",
   "execution_count": 1,
   "id": "6e379244",
   "metadata": {},
   "outputs": [
    {
     "data": {
      "application/vnd.jupyter.widget-view+json": {
       "model_id": "",
       "version_major": 2,
       "version_minor": 0
      },
      "method": "display_data"
     },
     "metadata": {},
     "output_type": "display_data"
    },
    {
     "data": {
      "application/vnd.jupyter.widget-view+json": {
       "model_id": "9d6dc293-03f9-4f77-b0d1-323a80efb757",
       "version_major": 2,
       "version_minor": 0
      },
      "method": "display_data"
     },
     "metadata": {},
     "output_type": "display_data"
    }
   ],
   "source": [
    "%%classpath add mvn\n",
    "tech.tablesaw tablesaw-beakerx 0.42.0\n",
    "tech.tablesaw tablesaw-jsplot 0.42.0\n",
    "com.jimmoores quandl-tablesaw 2.2.1\n",
    "com.github.haifengl smile-core 2.6.0"
   ]
  },
  {
   "cell_type": "code",
   "execution_count": 2,
   "id": "bc659095",
   "metadata": {},
   "outputs": [],
   "source": [
    "%import static tech.tablesaw.aggregate.AggregateFunctions.*\n",
    "%import tech.tablesaw.api.*\n",
    "%import tech.tablesaw.plotly.api.ScatterPlot\n",
    "%import tech.tablesaw.columns.*\n",
    "%import smile.clustering.*\n",
    "%import smile.data.formula.Formula\n",
    "%import smile.regression.*"
   ]
  },
  {
   "cell_type": "code",
   "execution_count": 8,
   "id": "cd6ef6d8",
   "metadata": {},
   "outputs": [
    {
     "data": {
      "text/plain": [
       "                                                                                                                                                                     test_wines.csv                                                                                                                                                                      \n",
       " wine.com id  |                             name                             |      appellation       |          region          |       varietal        |           vineyard           |  highest pro score  |  lowest retail  |  highest retail  |  suggested retail  |   wine type   |  mean retail  |  avg discount  |  highest com score  |  year  |\n",
       "---------------------------------------------------------------------------------------------------------------------------------------------------------------------------------------------------------------------------------------------------------------------------------------------------------------------------------------------------------\n",
       "      112245  |                                           Meiomi Pinot Noir  |         Central Coast  |              California  |           Pinot Noir  |                      Meiomi  |                 88  |          19.99  |              25  |                25  |    Red Wines  |       22.495  |       -0.1002  |                  5  |  2010  |\n",
       "      126651  |                                Kim Crawford Sauvignon Blanc  |           Marlborough  |             New Zealand  |      Sauvignon Blanc  |                Kim Crawford  |                 90  |          16.99  |           17.99  |             17.99  |  White Wines  |        17.49  |  -0.027793218  |                  4  |  2013  |\n",
       "      121129  |                       Merryvale Starmont Cabernet Sauvignon  |           Napa Valley  |              California  |   Cabernet Sauvignon  |         Merryvale Vineyards  |                 89  |          22.99  |              27  |                27  |    Red Wines  |       24.995  |  -0.074259259  |                  4  |  2009  |\n",
       "      105144  |             Hahn Estates Santa Lucia Highlands Estate Syrah  |      Other California  |              California  |         Syrah/Shiraz  |                Hahn Estates  |                 92  |          14.99  |              27  |                27  |    Red Wines  |       20.995  |  -0.222407407  |                  5  |  2007  |\n",
       "       87133  |                                          Primus \"The Blend\"  |                 Chile  |           South America  |     Other Red Blends  |                      Primus  |                 90  |          12.99  |           17.99  |             17.99  |    Red Wines  |        15.49  |  -0.138966092  |                  5  |  2004  |\n",
       "       96350  |                            Pewsey Vale Eden Valley Riesling  |        Barossa Valley  |               Australia  |             Riesling  |                 Pewsey Vale  |                 94  |          10.79  |           16.99  |             16.99  |  White Wines  |        13.89  |  -0.182460271  |                  5  |  2008  |\n",
       "       97439  |                                 BenMarco Cabernet Sauvignon  |             Argentina  |           South America  |   Cabernet Sauvignon  |                    BenMarco  |                 90  |          17.79  |              20  |                20  |    Red Wines  |       18.895  |      -0.05525  |                  4  |  2006  |\n",
       "      109642  |                 Chateau La Nerthe Chateauneuf-du-Pape Rouge  |   Chateauneuf-du-Pape  |          France - Rhone  |     Rhone Red Blends  |           Chateau La Nerthe  |                 93  |          49.99  |              55  |                55  |    Red Wines  |       52.495  |  -0.045545455  |                  4  |  2007  |\n",
       "      102073  |                                               Newton Claret  |           Napa Valley  |              California  |  Bordeaux Red Blends  |             Newton Vineyard  |                 93  |          19.99  |              25  |                25  |    Red Wines  |       22.495  |       -0.1002  |                  5  |  2007  |\n",
       "      108088  |                            Concannon Conservancy Chardonnay  |      Other California  |              California  |           Chardonnay  |                   Concannon  |                 90  |           9.99  |              15  |                15  |  White Wines  |       12.495  |        -0.167  |                  5  |  2009  |\n",
       "         ...  |                                                         ...  |                   ...  |                     ...  |                  ...  |                         ...  |                ...  |            ...  |             ...  |               ...  |          ...  |          ...  |           ...  |                ...  |   ...  |\n",
       "       58676  |                                     Grgich Hills Fume Blanc  |           Napa Valley  |              California  |      Sauvignon Blanc  |         Grgich Hills Cellar  |                 88  |          17.99  |           17.99  |             17.99  |  White Wines  |        17.99  |             0  |                     |  2001  |\n",
       "       97208  |              La Sauvageonne Coteaux du Languedoc Les Ruffes  |  Languedoc-Roussillon  |  France - Other regions  |     Rhone Red Blends  |              La Sauvageonne  |                 91  |          15.99  |           15.99  |             15.99  |    Red Wines  |        15.99  |             0  |                     |  2006  |\n",
       "        7360  |                                   Chateau Mouton Rothschild  |              Pauillac  |       France - Bordeaux  |  Bordeaux Red Blends  |   Chateau Mouton Rothschild  |                 90  |         236.99  |             369  |               369  |    Red Wines  |      302.995  |  -0.178875339  |                     |  1993  |\n",
       "       88353  |                                   Leasingham Bin 7 Riesling  |          Clare Valley  |               Australia  |             Riesling  |                  Leasingham  |                 95  |          10.49  |           19.29  |             19.29  |  White Wines  |        14.89  |   -0.22809746  |                  1  |  2005  |\n",
       "        7500  |  Kendall-Jackson Vintner's Reserve Chardonnay (half-bottle)  |         Sonoma County  |              California  |           Chardonnay  |             Kendall-Jackson  |                 87  |           9.49  |            9.49  |              9.49  |  White Wines  |         9.49  |             0  |                     |  1999  |\n",
       "       54211  |                                       ZD Cabernet Sauvignon  |           Napa Valley  |              California  |   Cabernet Sauvignon  |                    ZD Wines  |                 90  |          40.99  |           40.99  |             40.99  |    Red Wines  |        40.99  |             0  |                     |  1999  |\n",
       "       97194  |                   Bodegas y Vinedos Maurodos Toro San Roman  |           Other Spain  |                   Spain  |     Other Red Blends  |  Bodegas y Vinedos Maurodos  |                 95  |          49.99  |           49.99  |             49.99  |    Red Wines  |        49.99  |             0  |                     |  2004  |\n",
       "       47098  |                      Penfolds Koonunga Hill Shiraz-Cabernet  |        Barossa Valley  |               Australia  |     Other Red Blends  |              Penfolds Wines  |                 87  |          10.49  |           12.99  |             12.99  |    Red Wines  |        11.74  |  -0.096227868  |                     |  2000  |\n",
       "       79398  |                                        Amisfield Pinot Noir  |         Central Otago  |             New Zealand  |           Pinot Noir  |                   Amisfield  |                 91  |          29.99  |           29.99  |             29.99  |    Red Wines  |        29.99  |             0  |                     |  2003  |\n",
       "       92556  |                                         Girard Petite Sirah  |           Napa Valley  |              California  |         Petite Sirah  |                      Girard  |                 92  |          28.99  |           33.99  |             33.99  |    Red Wines  |        31.49  |  -0.073551044  |                     |  2005  |"
      ]
     },
     "execution_count": 8,
     "metadata": {},
     "output_type": "execute_result"
    }
   ],
   "source": [
    "iris = Table.read().csv(\"/Users/james/src/tablesaw/data/test_wines.csv\")"
   ]
  },
  {
   "cell_type": "code",
   "execution_count": 9,
   "id": "9c0cb483",
   "metadata": {},
   "outputs": [
    {
     "ename": "unable to resolve class Figure  @ line 1, column 8.",
     "evalue": "unable to resolve class Figure  @ line 1, column 8.",
     "output_type": "error",
     "text": "unable to resolve class Figure  @ line 1, column 8.\n   Figure figure = ScatterPlot.create(\"Wine prices and ratings\",\n          ^\n\n1 error\n\n\tat com.twosigma.beakerx.groovy.evaluator.GroovyCodeRunner.call(GroovyCodeRunner.java:55)\n\tat com.twosigma.beakerx.groovy.evaluator.GroovyCodeRunner.call(GroovyCodeRunner.java:32)",
     "traceback": [
      "\u001b[1;31munable to resolve class Figure  @ line 1, column 8.\u001b[0;0m",
      "\u001b[1;31m   Figure figure = ScatterPlot.create(\"Wine prices and ratings\",\u001b[0;0m",
      "\u001b[1;31m          ^\u001b[0;0m",
      "\u001b[1;31m\u001b[0;0m",
      "\u001b[1;31m1 error\u001b[0;0m",
      "\u001b[1;31m\u001b[0;0m",
      "\u001b[0;31m\tat com.twosigma.beakerx.groovy.evaluator.GroovyCodeRunner.call(GroovyCodeRunner.java:55)\u001b[0;0m",
      "\u001b[0;31m\tat com.twosigma.beakerx.groovy.evaluator.GroovyCodeRunner.call(GroovyCodeRunner.java:32)\u001b[0;0m"
     ]
    }
   ],
   "source": [
    "Figure figure = ScatterPlot.create(\"Wine prices and ratings\", \n",
    "                       wines, \"Mean Retail\", \"highest pro score\", \"wine type\")"
   ]
  },
  {
   "cell_type": "code",
   "execution_count": 5,
   "id": "1fa0c5e5",
   "metadata": {},
   "outputs": [
    {
     "ename": "java.lang.IllegalStateException",
     "evalue": " Column Species does not exist in table test_wines.csv",
     "output_type": "error",
     "text": "java.lang.IllegalStateException: Column Species does not exist in table test_wines.csv\n\tat tech.tablesaw.table.Relation.column(Relation.java:142)\n\tat tech.tablesaw.table.Relation.categoricalColumn(Relation.java:467)\n\tat tech.tablesaw.plotly.api.ScatterPlot.create(ScatterPlot.java:18)\n\tat tech.tablesaw.plotly.api.ScatterPlot$create.call(Unknown Source)\n\tat this cell line 1\n\tat com.twosigma.beakerx.groovy.evaluator.GroovyCodeRunner.runScript(GroovyCodeRunner.java:94)\n\tat com.twosigma.beakerx.groovy.evaluator.GroovyCodeRunner.call(GroovyCodeRunner.java:59)\n\tat com.twosigma.beakerx.groovy.evaluator.GroovyCodeRunner.call(GroovyCodeRunner.java:32)\n",
     "traceback": [
      "\u001b[1;31mjava.lang.IllegalStateException: Column Species does not exist in table test_wines.csv\u001b[0;0m",
      "\u001b[1;31m\tat tech.tablesaw.table.Relation.column(Relation.java:142)\u001b[0;0m",
      "\u001b[1;31m\tat tech.tablesaw.table.Relation.categoricalColumn(Relation.java:467)\u001b[0;0m",
      "\u001b[1;31m\tat tech.tablesaw.plotly.api.ScatterPlot.create(ScatterPlot.java:18)\u001b[0;0m",
      "\u001b[1;31m\tat tech.tablesaw.plotly.api.ScatterPlot$create.call(Unknown Source)\u001b[0;0m",
      "\u001b[1;31m\tat this cell line 1\u001b[0;0m",
      "\u001b[0;31m\tat com.twosigma.beakerx.groovy.evaluator.GroovyCodeRunner.runScript(GroovyCodeRunner.java:94)\u001b[0;0m",
      "\u001b[0;31m\tat com.twosigma.beakerx.groovy.evaluator.GroovyCodeRunner.call(GroovyCodeRunner.java:59)\u001b[0;0m",
      "\u001b[0;31m\tat com.twosigma.beakerx.groovy.evaluator.GroovyCodeRunner.call(GroovyCodeRunner.java:32)\u001b[0;0m"
     ]
    }
   ],
   "source": [
    "figure = ScatterPlot.create(\"Iris\", \n",
    "                       iris, \"SepalLengthCm\", \"SepalWidthCm\", \"Species\")"
   ]
  },
  {
   "cell_type": "code",
   "execution_count": null,
   "id": "22ee82fe",
   "metadata": {},
   "outputs": [],
   "source": []
  },
  {
   "cell_type": "code",
   "execution_count": 6,
   "id": "5cec8827",
   "metadata": {},
   "outputs": [
    {
     "ename": "groovy.lang.MissingPropertyException",
     "evalue": " No such property",
     "output_type": "error",
     "text": "groovy.lang.MissingPropertyException: No such property: figure for class: script1635275553044\n\tat this cell line 1\n\tat com.twosigma.beakerx.groovy.evaluator.GroovyCodeRunner.runScript(GroovyCodeRunner.java:94)\n\tat com.twosigma.beakerx.groovy.evaluator.GroovyCodeRunner.call(GroovyCodeRunner.java:59)\n\tat com.twosigma.beakerx.groovy.evaluator.GroovyCodeRunner.call(GroovyCodeRunner.java:32)\n",
     "traceback": [
      "\u001b[1;31mgroovy.lang.MissingPropertyException: No such property: figure for class: script1635275553044\u001b[0;0m",
      "\u001b[1;31m\tat this cell line 1\u001b[0;0m",
      "\u001b[0;31m\tat com.twosigma.beakerx.groovy.evaluator.GroovyCodeRunner.runScript(GroovyCodeRunner.java:94)\u001b[0;0m",
      "\u001b[0;31m\tat com.twosigma.beakerx.groovy.evaluator.GroovyCodeRunner.call(GroovyCodeRunner.java:59)\u001b[0;0m",
      "\u001b[0;31m\tat com.twosigma.beakerx.groovy.evaluator.GroovyCodeRunner.call(GroovyCodeRunner.java:32)\u001b[0;0m"
     ]
    }
   ],
   "source": [
    "Plot.show(figure)"
   ]
  },
  {
   "cell_type": "code",
   "execution_count": null,
   "id": "0ea512c4",
   "metadata": {},
   "outputs": [],
   "source": []
  }
 ],
 "metadata": {
  "kernelspec": {
   "display_name": "Groovy",
   "language": "groovy",
   "name": "groovy"
  },
  "language_info": {
   "codemirror_mode": "groovy",
   "file_extension": ".groovy",
   "mimetype": "",
   "name": "Groovy",
   "nbconverter_exporter": "",
   "version": "2.5.6"
  },
  "toc": {
   "base_numbering": 1,
   "nav_menu": {},
   "number_sections": false,
   "sideBar": false,
   "skip_h1_title": false,
   "title_cell": "Table of Contents",
   "title_sidebar": "Contents",
   "toc_cell": false,
   "toc_position": {},
   "toc_section_display": false,
   "toc_window_display": false
  }
 },
 "nbformat": 4,
 "nbformat_minor": 5
}
