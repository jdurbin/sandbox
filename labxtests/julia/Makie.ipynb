{
 "cells": [
  {
   "cell_type": "code",
   "execution_count": 1,
   "id": "e8291a0c",
   "metadata": {},
   "outputs": [],
   "source": [
    "using CairoMakie"
   ]
  },
  {
   "cell_type": "code",
   "execution_count": null,
   "id": "0403ca2d",
   "metadata": {},
   "outputs": [],
   "source": [
    "x = range(0, 10, length=100)\n",
    "y = sin.(x)\n",
    "lines(x, y)"
   ]
  },
  {
   "cell_type": "code",
   "execution_count": null,
   "id": "22dffd9d",
   "metadata": {},
   "outputs": [],
   "source": []
  }
 ],
 "metadata": {
  "kernelspec": {
   "display_name": "Julia 1.6.1",
   "language": "julia",
   "name": "julia-1.6"
  },
  "language_info": {
   "file_extension": ".jl",
   "mimetype": "application/julia",
   "name": "julia",
   "version": "1.6.1"
  }
 },
 "nbformat": 4,
 "nbformat_minor": 5
}
